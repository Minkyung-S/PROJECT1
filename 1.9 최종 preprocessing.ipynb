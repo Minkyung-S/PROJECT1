{
 "cells": [
  {
   "cell_type": "code",
   "execution_count": 1,
   "metadata": {},
   "outputs": [],
   "source": [
    "import pandas as pd\n",
    "import matplotlib.pyplot as plt\n",
    "import seaborn as sns\n",
    "import warnings\n",
    "from scipy import stats\n",
    "import numpy as np\n",
    "%matplotlib inline"
   ]
  },
  {
   "cell_type": "code",
   "execution_count": 2,
   "metadata": {},
   "outputs": [],
   "source": [
    "대주주외국인지분변화 = pd.read_csv('대주주외국인지분변화.csv',encoding='utf-8-sig',index_col=0)\n",
    "산업분류_G임금 = pd.read_csv('산업분류_G임금.csv',encoding='utf-8-sig',index_col=0)\n",
    "토빈Q = pd.read_csv('토빈Q.csv',encoding='utf-8-sig',index_col=0)\n",
    "현금흐름 = pd.read_csv('현금흐름.csv',encoding='utf-8-sig',index_col=0)\n",
    "RDS = pd.read_csv('RDS.csv',encoding='utf-8-sig',index_col=0)\n",
    "target = pd.read_csv('target2.csv',encoding='utf-8-sig',index_col=0)\n",
    "ww = pd.read_csv('ww지수.csv',encoding='utf-8-sig',index_col=0)"
   ]
  },
  {
   "cell_type": "code",
   "execution_count": 3,
   "metadata": {},
   "outputs": [],
   "source": [
    " #회계년도컬럼, 년도만 뽑아서 int화\n",
    "def change_year(x):\n",
    "    return int(x[:4])\n",
    "대주주외국인지분변화[\"회계년도\"] = 대주주외국인지분변화[\"회계년도\"].map(change_year) # 년도만 표시"
   ]
  },
  {
   "cell_type": "code",
   "execution_count": 4,
   "metadata": {},
   "outputs": [],
   "source": [
    "df = pd.merge(대주주외국인지분변화,산업분류_G임금, on=['회사명','거래소코드','회계년도'],how='inner')\n",
    "df = pd.merge(df,토빈Q, on=['회사명','거래소코드','회계년도'],how='inner')\n",
    "df = pd.merge(df,현금흐름, on=['회사명','거래소코드','회계년도'],how='inner')\n",
    "df = pd.merge(df,RDS, on=['회사명','거래소코드','회계년도'],how='inner')\n",
    "df = pd.merge(df,target, on=['회사명','거래소코드','회계년도'],how='inner')\n",
    "df = pd.merge(df,ww,on=['회사명','거래소코드','회계년도'],how='inner')"
   ]
  },
  {
   "cell_type": "code",
   "execution_count": 5,
   "metadata": {},
   "outputs": [
    {
     "data": {
      "text/plain": [
       "(14547, 47)"
      ]
     },
     "execution_count": 5,
     "metadata": {},
     "output_type": "execute_result"
    }
   ],
   "source": [
    "df.shape"
   ]
  },
  {
   "cell_type": "code",
   "execution_count": 6,
   "metadata": {},
   "outputs": [
    {
     "data": {
      "text/plain": [
       "Index(['회사명', '거래소코드', '회계년도', '대주주지분변화분', '외국인지분분변화', '상장일', '자산',\n",
       "       '당기순이익(손실)', '미처분이익잉여금(결손금)', '총자본증가율', '비유동자산증가율', '유동자산증가율',\n",
       "       '자기자본증가율', '매출액증가율', '정상영업이익증가율', '순이익증가율', '총포괄이익증가율', '매출액순이익률',\n",
       "       '총자본순이익률', '자기자본순이익률', '매출원가대매출액비율', '광고선전비대매출액비율', '유보율', '비유동비율',\n",
       "       '유동비율', '당좌비율', '현금비율', '부채비율', '유동부채비율', '차입금비율', '이자보상배율(이자비용)',\n",
       "       '유보액대비율', '유보액대납입자본배율', '투자집중도', '통계청 한국표준산업분류 10차(대분류)', '직급명',\n",
       "       '1인평균지급액(임원)', '1인년간평균급여(직원)', '토빈Q', '영업활동으로인한현금흐름(간접법)(천원)',\n",
       "       '투자활동으로인한현금흐름(천원)', '재무활동으로인한현금흐름(천원)', '연구비', '경상개발비', '매출액(영업수익)',\n",
       "       '조건2', 'WW지수'],\n",
       "      dtype='object')"
      ]
     },
     "execution_count": 6,
     "metadata": {},
     "output_type": "execute_result"
    }
   ],
   "source": [
    "df.columns"
   ]
  },
  {
   "cell_type": "code",
   "execution_count": 7,
   "metadata": {},
   "outputs": [],
   "source": [
    "# RDS = (경상개발비 + 연구비 )/매출액\n",
    "df['RDS'] = (df['경상개발비'] + df['연구비']) / df['매출액(영업수익)']\n",
    "df.drop(['경상개발비','연구비','매출액(영업수익)'],axis=1,inplace=True)"
   ]
  },
  {
   "cell_type": "code",
   "execution_count": 8,
   "metadata": {},
   "outputs": [],
   "source": [
    "## 기업주기 \n",
    "for i in range(df.shape[0]):\n",
    "    if (df.loc[i,'영업활동으로인한현금흐름(간접법)(천원)']<0) and (df.loc[i,'투자활동으로인한현금흐름(천원)']<0) and (df.loc[i,'재무활동으로인한현금흐름(천원)']>0):\n",
    "        df.loc[i,'수명주기'] = '도입기'\n",
    "    elif (df.loc[i,'영업활동으로인한현금흐름(간접법)(천원)']>0) and (df.loc[i,'투자활동으로인한현금흐름(천원)']<0) and (df.loc[i,'재무활동으로인한현금흐름(천원)']>0):\n",
    "        df.loc[i,'수명주기'] = '성장기'\n",
    "    elif (df.loc[i,'영업활동으로인한현금흐름(간접법)(천원)']>0) and (df.loc[i,'투자활동으로인한현금흐름(천원)']<0) and (df.loc[i,'재무활동으로인한현금흐름(천원)']<0):\n",
    "        df.loc[i,'수명주기'] = '성숙기'\n",
    "    else:\n",
    "        df.loc[i,'수명주기'] = '쇠퇴기'\n",
    "\n",
    "df.drop(['영업활동으로인한현금흐름(간접법)(천원)','투자활동으로인한현금흐름(천원)','재무활동으로인한현금흐름(천원)'],axis=1,inplace=True)"
   ]
  },
  {
   "cell_type": "code",
   "execution_count": 9,
   "metadata": {},
   "outputs": [],
   "source": [
    "# B열의 값이 0 미만인 행 삭제\n",
    "df = df[df['미처분이익잉여금(결손금)'] >= 0]"
   ]
  },
  {
   "cell_type": "code",
   "execution_count": 10,
   "metadata": {},
   "outputs": [],
   "source": [
    "df.dropna(inplace=True)\n",
    "# 해당 년도 매출액 및 영업이익의 연결범위 변동으로 인한 결측치 삭제"
   ]
  },
  {
   "cell_type": "code",
   "execution_count": 11,
   "metadata": {},
   "outputs": [
    {
     "name": "stdout",
     "output_type": "stream",
     "text": [
      "            회사명  거래소코드  회계년도  대주주지분변화분  외국인지분분변화         상장일            자산  \\\n",
      "5      (주)DB하이텍    990  2016    -25.96      3.41  1975/12/12  9.867886e+08   \n",
      "6      (주)DB하이텍    990  2017     25.96      6.69  1975/12/12  9.939507e+08   \n",
      "7      (주)DB하이텍    990  2018      0.00      8.16  1975/12/12  1.066534e+09   \n",
      "8      (주)DB하이텍    990  2019     -0.14     11.29  1975/12/12  1.088890e+09   \n",
      "9      (주)DB하이텍    990  2020      0.00    -11.99  1975/12/12  1.178581e+09   \n",
      "...         ...    ...   ...       ...       ...         ...           ...   \n",
      "14537   흥아해운(주)   3280  2011      1.36     40.11  1976/06/29  5.309435e+08   \n",
      "14538   흥아해운(주)   3280  2012     21.09      0.92  1976/06/29  5.335714e+08   \n",
      "14539   흥아해운(주)   3280  2013      9.21     -2.88  1976/06/29  5.710601e+08   \n",
      "14540   흥아해운(주)   3280  2014    -28.41      1.32  1976/06/29  6.492400e+08   \n",
      "14541   흥아해운(주)   3280  2015     -3.08     -6.12  1976/06/29  7.916408e+08   \n",
      "\n",
      "         당기순이익(손실)  미처분이익잉여금(결손금)  총자본증가율  ...  통계청 한국표준산업분류 10차(대분류)  \\\n",
      "5       88002359.0     75869000.0    0.22  ...                    제조업   \n",
      "6       74401732.0    152840000.0    0.73  ...                    제조업   \n",
      "7       95087399.0    268675000.0    7.30  ...                    제조업   \n",
      "8      121159865.0    371828000.0    2.10  ...                    제조업   \n",
      "9      165657642.0    519643000.0    8.24  ...                    제조업   \n",
      "...            ...            ...     ...  ...                    ...   \n",
      "14537  -22898487.0     26778246.0   -3.13  ...               운수 및 창고업   \n",
      "14538   13856574.0     25099567.0    0.49  ...               운수 및 창고업   \n",
      "14539   16336139.0     25872251.0    7.03  ...               운수 및 창고업   \n",
      "14540   16527854.0     25916478.0   13.69  ...               운수 및 창고업   \n",
      "14541    8827312.0     18840786.0   21.93  ...               운수 및 창고업   \n",
      "\n",
      "                          직급명  1인평균지급액(임원)  1인년간평균급여(직원)          토빈Q  조건2  \\\n",
      "5      등기이사(사외이사,감사위원회 위원 제외)     705000.0       53000.0   714.152978    0   \n",
      "6          사외이사 (감사위원회 위원 제외)          0.0       55000.0   549.453179    1   \n",
      "7      등기이사(사외이사,감사위원회 위원 제외)     649000.0       56000.0   463.306109    1   \n",
      "8          사외이사 (감사위원회 위원 제외)       9000.0       66000.0   953.096666    1   \n",
      "9          사외이사 (감사위원회 위원 제외)          0.0       70000.0  1438.838904    1   \n",
      "...                       ...          ...           ...          ...  ...   \n",
      "14537                    등기이사     232062.0       36000.0    96.679503    0   \n",
      "14538                    등기이사     233041.0       37505.0   124.150424    1   \n",
      "14539                    등기이사     223963.0       40361.0   178.740952    1   \n",
      "14540                    등기이사     196621.0       35766.0   351.474857    1   \n",
      "14541                    등기이사     257949.0       38070.0   187.834734    1   \n",
      "\n",
      "           WW지수       RDS  수명주기  대주주지분변화분1  \n",
      "5     -0.677243  0.069506   성숙기          1  \n",
      "6     -0.444753  0.080072   성숙기          0  \n",
      "7     -0.671716  0.078906   성숙기          1  \n",
      "8     -0.485689  0.068485   성숙기          1  \n",
      "9     -0.480239  0.062517   성숙기          1  \n",
      "...         ...       ...   ...        ...  \n",
      "14537 -0.493300  0.000000   쇠퇴기          0  \n",
      "14538  0.050795  0.000000   성장기          0  \n",
      "14539 -1.127735  0.000000   성장기          0  \n",
      "14540 -0.870443  0.000000   쇠퇴기          1  \n",
      "14541 -0.932409  0.000000   성숙기          1  \n",
      "\n",
      "[13173 rows x 44 columns]\n"
     ]
    }
   ],
   "source": [
    "import pandas as pd\n",
    "\n",
    "df['대주주지분변화분1'] = df['대주주지분변화분'].apply(lambda x: 1 if x <= 0 else 0)\n",
    "\n",
    "# 결과 출력\n",
    "print(df)"
   ]
  },
  {
   "cell_type": "code",
   "execution_count": 17,
   "metadata": {},
   "outputs": [
    {
     "data": {
      "text/plain": [
       "대주주지분변화분1\n",
       "1            7080\n",
       "0            6093\n",
       "dtype: int64"
      ]
     },
     "execution_count": 17,
     "metadata": {},
     "output_type": "execute_result"
    }
   ],
   "source": [
    "df[['대주주지분변화분1']].value_counts()"
   ]
  },
  {
   "cell_type": "code",
   "execution_count": 130,
   "metadata": {},
   "outputs": [],
   "source": [
    "df.to_csv('최종.csv',encoding='UTF-8-sig')"
   ]
  },
  {
   "cell_type": "code",
   "execution_count": null,
   "metadata": {},
   "outputs": [],
   "source": []
  }
 ],
 "metadata": {
  "kernelspec": {
   "display_name": "base",
   "language": "python",
   "name": "python3"
  },
  "language_info": {
   "codemirror_mode": {
    "name": "ipython",
    "version": 3
   },
   "file_extension": ".py",
   "mimetype": "text/x-python",
   "name": "python",
   "nbconvert_exporter": "python",
   "pygments_lexer": "ipython3",
   "version": "3.8.7"
  },
  "orig_nbformat": 4
 },
 "nbformat": 4,
 "nbformat_minor": 2
}
